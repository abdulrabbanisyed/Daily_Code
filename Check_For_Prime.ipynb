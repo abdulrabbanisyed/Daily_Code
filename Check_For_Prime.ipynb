{
 "cells": [
  {
   "cell_type": "markdown",
   "metadata": {},
   "source": [
    "## Check if the number is Prime or not"
   ]
  },
  {
   "cell_type": "code",
   "execution_count": 36,
   "metadata": {},
   "outputs": [
    {
     "data": {
      "text/plain": [
       "True"
      ]
     },
     "execution_count": 36,
     "metadata": {},
     "output_type": "execute_result"
    }
   ],
   "source": [
    "def number_is_prime(n):\n",
    "    from math import sqrt as square\n",
    "    from math import floor\n",
    "    counter = 0\n",
    "    for number in range(1,floor(square(n))):\n",
    "        if (n % number == 0):\n",
    "            counter += 1\n",
    "            if (n // number != number): # This checks if it the n is divided by number and leave no remainder that means there is one more divisor\n",
    "                counter += 1\n",
    "    if counter == 2:\n",
    "        return True\n",
    "    else:\n",
    "        return False\n",
    "    \n",
    "    \n",
    "#Example\n",
    "number_is_prime(1483)"
   ]
  },
  {
   "cell_type": "markdown",
   "metadata": {},
   "source": [
    "### Time Complexity is O(n) - As every iteration of for loop takes numbers in a nums list, the numbers determines the time complexity.\n",
    "\n",
    "### The Space Complexity is O(1)."
   ]
  },
  {
   "cell_type": "markdown",
   "metadata": {},
   "source": []
  }
 ],
 "metadata": {
  "kernelspec": {
   "display_name": "Python 3",
   "language": "python",
   "name": "python3"
  },
  "language_info": {
   "codemirror_mode": {
    "name": "ipython",
    "version": 3
   },
   "file_extension": ".py",
   "mimetype": "text/x-python",
   "name": "python",
   "nbconvert_exporter": "python",
   "pygments_lexer": "ipython3",
   "version": "3.9.6"
  }
 },
 "nbformat": 4,
 "nbformat_minor": 2
}
