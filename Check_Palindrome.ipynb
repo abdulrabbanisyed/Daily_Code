{
 "cells": [
  {
   "cell_type": "markdown",
   "metadata": {},
   "source": [
    "## Check Palindrome"
   ]
  },
  {
   "cell_type": "code",
   "execution_count": 12,
   "metadata": {},
   "outputs": [
    {
     "data": {
      "text/plain": [
       "False"
      ]
     },
     "execution_count": 12,
     "metadata": {},
     "output_type": "execute_result"
    }
   ],
   "source": [
    "def Palindrome(n):\n",
    "    original_num = n\n",
    "    rev_num = 0\n",
    "    while n > 0:\n",
    "        last_digit = n % 10\n",
    "        n = int( n / 10)\n",
    "        rev_num = (rev_num * 10) + last_digit\n",
    "    if rev_num == original_num:\n",
    "        return True\n",
    "    return False\n",
    "\n",
    "\n",
    "#Example\n",
    "\n",
    "Palindrome(123)"
   ]
  },
  {
   "cell_type": "markdown",
   "metadata": {},
   "source": [
    "### Time Complexity is O(log10N + 1) - As every iteration of while loop takes log10N iterations, the number of digits in N determines the time complexity ; The worst case is when the N is a multiple of 10 then number of digits in N is (log10N + 1). \n",
    "### The Space Complexity is O(1)."
   ]
  },
  {
   "cell_type": "code",
   "execution_count": null,
   "metadata": {},
   "outputs": [],
   "source": []
  }
 ],
 "metadata": {
  "kernelspec": {
   "display_name": "Python 3",
   "language": "python",
   "name": "python3"
  },
  "language_info": {
   "codemirror_mode": {
    "name": "ipython",
    "version": 3
   },
   "file_extension": ".py",
   "mimetype": "text/x-python",
   "name": "python",
   "nbconvert_exporter": "python",
   "pygments_lexer": "ipython3",
   "version": "3.9.6"
  }
 },
 "nbformat": 4,
 "nbformat_minor": 2
}
