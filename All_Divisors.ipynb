{
 "cells": [
  {
   "cell_type": "markdown",
   "metadata": {},
   "source": [
    "## All Divisors"
   ]
  },
  {
   "cell_type": "code",
   "execution_count": 6,
   "metadata": {},
   "outputs": [
    {
     "name": "stdout",
     "output_type": "stream",
     "text": [
      "The divisor is :  1\n",
      "The divisor is :  2\n",
      "The divisor is :  3\n",
      "The divisor is :  6\n"
     ]
    },
    {
     "data": {
      "text/plain": [
       "([1, 2, 3, 6], 4)"
      ]
     },
     "execution_count": 6,
     "metadata": {},
     "output_type": "execute_result"
    }
   ],
   "source": [
    "def all_divisors(n):\n",
    "    all_divisors_list = []\n",
    "    count = 0\n",
    "    for i in range(1,n+1):\n",
    "        if n % i == 0:\n",
    "            print(\"The divisor is : \",i)\n",
    "            all_divisors_list.append(i)\n",
    "            count += 1\n",
    "    return all_divisors_list, count\n",
    "\n",
    "#Example\n",
    "all_divisors(6)\n",
    "        "
   ]
  },
  {
   "cell_type": "markdown",
   "metadata": {},
   "source": [
    "### Time Complexity is O(n) - As every iteration of while loop takes number of digits iterations, the numbers determines the time complexity.\n",
    "\n",
    "### The Space Complexity is O(n)."
   ]
  },
  {
   "cell_type": "markdown",
   "metadata": {},
   "source": []
  }
 ],
 "metadata": {
  "kernelspec": {
   "display_name": "Python 3",
   "language": "python",
   "name": "python3"
  },
  "language_info": {
   "codemirror_mode": {
    "name": "ipython",
    "version": 3
   },
   "file_extension": ".py",
   "mimetype": "text/x-python",
   "name": "python",
   "nbconvert_exporter": "python",
   "pygments_lexer": "ipython3",
   "version": "3.9.6"
  }
 },
 "nbformat": 4,
 "nbformat_minor": 2
}
