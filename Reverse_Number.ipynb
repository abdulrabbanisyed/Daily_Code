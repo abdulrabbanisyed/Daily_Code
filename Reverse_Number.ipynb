{
 "cells": [
  {
   "cell_type": "markdown",
   "metadata": {},
   "source": [
    "## Reverse the number"
   ]
  },
  {
   "cell_type": "code",
   "execution_count": 2,
   "metadata": {},
   "outputs": [
    {
     "data": {
      "text/plain": [
       "654321"
      ]
     },
     "execution_count": 2,
     "metadata": {},
     "output_type": "execute_result"
    }
   ],
   "source": [
    "def reverse_integers(n):\n",
    "    revnum = 0\n",
    "    while n > 0:\n",
    "        # Last digit of the number stored in temp\n",
    "        last_digit = n % 10 \n",
    "        # removing the last digit of the number\n",
    "        n = n // 10 \n",
    "        # regenerating the number 0 * 10 + 3 = 3; 3*10 + 2 = 32; 32 * 10 + 1 = 321\n",
    "        revnum = (revnum * 10) + last_digit  \n",
    "\n",
    "    return revnum\n",
    "\n",
    "#Example\n",
    "reverse_integers(123456)"
   ]
  },
  {
   "cell_type": "markdown",
   "metadata": {},
   "source": [
    "### Time Complexity is O(log10N + 1) - As every iteration of while loop takes log10N iterations, the number of digits in N determines the time complexity ; The worst case is when the N is a multiple of 10 then number of digits in N is (log10N + 1). \n",
    "### The Space Complexity is O(1)."
   ]
  },
  {
   "cell_type": "code",
   "execution_count": null,
   "metadata": {},
   "outputs": [],
   "source": []
  }
 ],
 "metadata": {
  "kernelspec": {
   "display_name": "Python 3",
   "language": "python",
   "name": "python3"
  },
  "language_info": {
   "codemirror_mode": {
    "name": "ipython",
    "version": 3
   },
   "file_extension": ".py",
   "mimetype": "text/x-python",
   "name": "python",
   "nbconvert_exporter": "python",
   "pygments_lexer": "ipython3",
   "version": "3.9.6"
  }
 },
 "nbformat": 4,
 "nbformat_minor": 2
}
