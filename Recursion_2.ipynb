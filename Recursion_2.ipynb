{
 "cells": [
  {
   "cell_type": "markdown",
   "metadata": {},
   "source": [
    "## Recursion by printing your name N times"
   ]
  },
  {
   "cell_type": "code",
   "execution_count": 5,
   "metadata": {},
   "outputs": [
    {
     "name": "stdout",
     "output_type": "stream",
     "text": [
      "Abdul Rabbani Syed\n",
      "Abdul Rabbani Syed\n",
      "Abdul Rabbani Syed\n",
      "Abdul Rabbani Syed\n",
      "Abdul Rabbani Syed\n"
     ]
    }
   ],
   "source": [
    "class Recursion:\n",
    "    count = 0  # This is a class attribute that can be used by any instance in the class\n",
    "\n",
    "    @classmethod  # This allows access and modification of the class attribute 'count' using 'cls'\n",
    "    def rec(cls, n):\n",
    "        if cls.count == n:  # Base condition to stop the recursion\n",
    "            return None\n",
    "        print(\"Abdul Rabbani Syed\")\n",
    "        cls.count += 1  # Increment the class attribute\n",
    "        cls.rec(n)  # Function calling itself\n",
    "\n",
    "# Example usage\n",
    "target_num = int(input('Enter a number: '))\n",
    "Recursion.rec(target_num)\n"
   ]
  }
 ],
 "metadata": {
  "kernelspec": {
   "display_name": "Python 3",
   "language": "python",
   "name": "python3"
  },
  "language_info": {
   "codemirror_mode": {
    "name": "ipython",
    "version": 3
   },
   "file_extension": ".py",
   "mimetype": "text/x-python",
   "name": "python",
   "nbconvert_exporter": "python",
   "pygments_lexer": "ipython3",
   "version": "3.9.6"
  }
 },
 "nbformat": 4,
 "nbformat_minor": 2
}
