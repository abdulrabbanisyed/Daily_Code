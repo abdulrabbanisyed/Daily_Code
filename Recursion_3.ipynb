{
 "cells": [
  {
   "cell_type": "markdown",
   "metadata": {},
   "source": [
    "## Recursion by printing your name N times"
   ]
  },
  {
   "cell_type": "code",
   "execution_count": 12,
   "metadata": {},
   "outputs": [
    {
     "name": "stdout",
     "output_type": "stream",
     "text": [
      "Abdul Rabbani Syed\n",
      "Abdul Rabbani Syed\n",
      "Abdul Rabbani Syed\n",
      "Abdul Rabbani Syed\n",
      "Abdul Rabbani Syed\n",
      "Abdul Rabbani Syed\n"
     ]
    }
   ],
   "source": [
    "class Recursion:\n",
    "\n",
    "    def rec(i, n):\n",
    "        if i > n:  # Base condition to stop the recursion\n",
    "            return None\n",
    "        print(\"Abdul Rabbani Syed\")\n",
    "        Recursion.rec(i+1,n)  # Function calling itself\n",
    "\n",
    "# Example usage\n",
    "i = 1\n",
    "Recursion.rec(i, 6)\n"
   ]
  },
  {
   "cell_type": "code",
   "execution_count": null,
   "metadata": {},
   "outputs": [],
   "source": []
  }
 ],
 "metadata": {
  "kernelspec": {
   "display_name": "Python 3",
   "language": "python",
   "name": "python3"
  },
  "language_info": {
   "codemirror_mode": {
    "name": "ipython",
    "version": 3
   },
   "file_extension": ".py",
   "mimetype": "text/x-python",
   "name": "python",
   "nbconvert_exporter": "python",
   "pygments_lexer": "ipython3",
   "version": "3.9.6"
  }
 },
 "nbformat": 4,
 "nbformat_minor": 2
}
