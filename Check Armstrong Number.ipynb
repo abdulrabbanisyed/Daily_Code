{
 "cells": [
  {
   "cell_type": "markdown",
   "metadata": {},
   "source": [
    "## check armstrong number"
   ]
  },
  {
   "cell_type": "code",
   "execution_count": 17,
   "metadata": {},
   "outputs": [
    {
     "data": {
      "text/plain": [
       "False"
      ]
     },
     "execution_count": 17,
     "metadata": {},
     "output_type": "execute_result"
    }
   ],
   "source": [
    "def armstrong(n):\n",
    "    num = 0\n",
    "    original_num = n\n",
    "    while n > 0:\n",
    "        last_digit = n % 10\n",
    "        n = n // 10\n",
    "        num = num + (last_digit ** 3)\n",
    "    if num == original_num:\n",
    "        return True\n",
    "    return False\n",
    "\n",
    "#Example\n",
    "\n",
    "armstrong(123)\n"
   ]
  },
  {
   "cell_type": "markdown",
   "metadata": {},
   "source": [
    "### Time Complexity is O(Log10N) - As every iteration of while loop takes number of digits iterations, the numbers determines the time complexity.\n",
    "\n",
    "### The Space Complexity is O(1)."
   ]
  },
  {
   "cell_type": "markdown",
   "metadata": {},
   "source": []
  }
 ],
 "metadata": {
  "kernelspec": {
   "display_name": "Python 3",
   "language": "python",
   "name": "python3"
  },
  "language_info": {
   "codemirror_mode": {
    "name": "ipython",
    "version": 3
   },
   "file_extension": ".py",
   "mimetype": "text/x-python",
   "name": "python",
   "nbconvert_exporter": "python",
   "pygments_lexer": "ipython3",
   "version": "3.9.6"
  }
 },
 "nbformat": 4,
 "nbformat_minor": 2
}
