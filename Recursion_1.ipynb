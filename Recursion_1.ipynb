{
 "cells": [
  {
   "cell_type": "markdown",
   "metadata": {},
   "source": [
    "## Recursion by printing something N times"
   ]
  },
  {
   "cell_type": "code",
   "execution_count": 19,
   "metadata": {},
   "outputs": [
    {
     "name": "stdout",
     "output_type": "stream",
     "text": [
      "0\n",
      "1\n",
      "2\n",
      "3\n",
      "4\n",
      "5\n",
      "6\n",
      "7\n"
     ]
    }
   ],
   "source": [
    "class Recursion:\n",
    "    count = 0 # This is class attribute which can be used by any instance in the class\n",
    "\n",
    "    @classmethod # This allows to access and modify the class attribute 'count'  using 'cls'\n",
    "    def rec(cls):\n",
    "        if (cls.count == 8):# Base condition to stop the recursion\n",
    "            return None\n",
    "        print(cls.count)\n",
    "        cls.count += 1 # Increment the class attribute\n",
    "        cls.rec() # Function calling itself\n",
    "\n",
    "\n",
    "#Example\n",
    "Recursion.rec()"
   ]
  },
  {
   "cell_type": "markdown",
   "metadata": {},
   "source": [
    "### Time Complexity is O(n) - As every iteration of for loop takes numbers in a nums list, the numbers determines the time complexity.\n",
    "\n",
    "### The Space Complexity is O(1)."
   ]
  },
  {
   "cell_type": "markdown",
   "metadata": {},
   "source": []
  }
 ],
 "metadata": {
  "kernelspec": {
   "display_name": "Python 3",
   "language": "python",
   "name": "python3"
  },
  "language_info": {
   "codemirror_mode": {
    "name": "ipython",
    "version": 3
   },
   "file_extension": ".py",
   "mimetype": "text/x-python",
   "name": "python",
   "nbconvert_exporter": "python",
   "pygments_lexer": "ipython3",
   "version": "3.9.6"
  }
 },
 "nbformat": 4,
 "nbformat_minor": 2
}
