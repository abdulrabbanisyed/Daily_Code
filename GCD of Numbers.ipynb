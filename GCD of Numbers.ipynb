{
 "cells": [
  {
   "cell_type": "markdown",
   "metadata": {},
   "source": [
    "## Find GCD of numbers (Optimal approach)"
   ]
  },
  {
   "cell_type": "code",
   "execution_count": 1,
   "metadata": {},
   "outputs": [
    {
     "data": {
      "text/plain": [
       "2"
      ]
     },
     "execution_count": 1,
     "metadata": {},
     "output_type": "execute_result"
    }
   ],
   "source": [
    "def gcd(a, b):\n",
    "    #x = 1 For optimal approach\n",
    "    #max = 0\n",
    "    while a > 0 and b > 0: # Looping until one of them becomes zero\n",
    "        if a > b:\n",
    "            a = a % b # we are basically subtracting the b from a\n",
    "        else:\n",
    "            b = b % a #we are basically subtracting the a from b\n",
    "    #printing the gcd by checking which number becomes zero, then other one is our gcd\n",
    "    if a == 0:\n",
    "        return b\n",
    "    return a\n",
    "\n",
    "#Example\n",
    "\n",
    "gcd(52, 10)"
   ]
  },
  {
   "cell_type": "markdown",
   "metadata": {},
   "source": [
    "### Time Complexity is O(Log(PHI)((min(a,b))) - As every iteration of while loop takes n iterations, the minimum value of the numbers determines the time complexity.\n",
    "\n",
    "### The Space Complexity is O(1)."
   ]
  }
 ],
 "metadata": {
  "kernelspec": {
   "display_name": "Python 3",
   "language": "python",
   "name": "python3"
  },
  "language_info": {
   "codemirror_mode": {
    "name": "ipython",
    "version": 3
   },
   "file_extension": ".py",
   "mimetype": "text/x-python",
   "name": "python",
   "nbconvert_exporter": "python",
   "pygments_lexer": "ipython3",
   "version": "3.9.6"
  }
 },
 "nbformat": 4,
 "nbformat_minor": 2
}
